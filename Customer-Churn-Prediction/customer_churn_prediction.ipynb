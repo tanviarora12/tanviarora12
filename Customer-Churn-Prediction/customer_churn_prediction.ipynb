# Customer Churn Prediction Notebook

import pandas as pd
from sklearn.model_selection import train_test_split
# Example ML code setup