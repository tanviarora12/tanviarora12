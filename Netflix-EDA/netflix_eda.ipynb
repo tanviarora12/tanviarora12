# Netflix EDA Python notebook

import pandas as pd

# Load dataset
# df = pd.read_csv("netflix.csv")
# Simple EDA code here